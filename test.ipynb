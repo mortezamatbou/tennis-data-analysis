{
 "cells": [
  {
   "cell_type": "code",
   "execution_count": 2,
   "metadata": {},
   "outputs": [
    {
     "name": "stdout",
     "output_type": "stream",
     "text": [
      "      match_id  home_vote  away_vote\n",
      "0     12260075       5926       8590\n",
      "1     12260076       7974       1618\n",
      "2     12260077       5378       3602\n",
      "3     12260078       2988       3644\n",
      "4     12260080       2074      11490\n",
      "...        ...        ...        ...\n",
      "9314  12384975         74        144\n",
      "9315  12385017         36         46\n",
      "9316  12385869          2         20\n",
      "9317  12385873         18         12\n",
      "9318  12386383         78         30\n",
      "\n",
      "[9319 rows x 3 columns]\n"
     ]
    }
   ],
   "source": [
    "import pandas as pd\n",
    "\n",
    "df = pd.read_parquet('./data/raw/01/MatchVotesInfo.parquet')\n",
    "print(df)"
   ]
  }
 ],
 "metadata": {
  "kernelspec": {
   "display_name": ".venv",
   "language": "python",
   "name": "python3"
  },
  "language_info": {
   "codemirror_mode": {
    "name": "ipython",
    "version": 3
   },
   "file_extension": ".py",
   "mimetype": "text/x-python",
   "name": "python",
   "nbconvert_exporter": "python",
   "pygments_lexer": "ipython3",
   "version": "3.10.12"
  },
  "orig_nbformat": 4,
  "vscode": {
   "interpreter": {
    "hash": "f0062902cb4b9df9e0809a8228ed511b308970b3c491c06856ca85c2060eb45d"
   }
  }
 },
 "nbformat": 4,
 "nbformat_minor": 2
}
