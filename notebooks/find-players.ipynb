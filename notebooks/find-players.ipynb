{
 "cells": [
  {
   "cell_type": "code",
   "execution_count": null,
   "metadata": {},
   "outputs": [],
   "source": [
    "import pandas as pd"
   ]
  },
  {
   "attachments": {},
   "cell_type": "markdown",
   "metadata": {},
   "source": [
    "## get unique player info form MatchAwayTeamInfo and MatchHomeTeamInfo"
   ]
  },
  {
   "cell_type": "code",
   "execution_count": null,
   "metadata": {},
   "outputs": [],
   "source": [
    "df_away = pd.read_parquet('../data/raw/01/MatchAwayTeamInfo.parquet')\n",
    "df_home = pd.read_parquet('../data/raw/01/MatchHomeTeamInfo.parquet')\n",
    "\n",
    "players = pd.concat([pd.Series(df_away['slug'].unique()), pd.Series(df_home['slug'].unique())], axis=0)\n",
    "\n",
    "players = pd.Series(players.unique())\n",
    "players.dropna(inplace=True)\n",
    "\n",
    "\n",
    "unique_players = []\n",
    "\n",
    "for slug in players:\n",
    "    player = df_away[df_away['slug'] == slug]\n",
    "    if player.size:\n",
    "        unique_players.append(player.iloc[0])\n",
    "        continue\n",
    "    \n",
    "    player = df_home[df_home['slug'] == slug]\n",
    "    if player.size:\n",
    "        unique_players.append(player.iloc[0])\n",
    "\n",
    "    \n",
    "df = pd.DataFrame(unique_players)\n",
    "\n",
    "# drop column that all values is null\n",
    "df.dropna(axis=1, how='all', inplace=True)\n",
    "# drop match_id column\n",
    "df.drop(columns=['match_id'], axis=1, inplace=True)\n",
    "df.reset_index(inplace=True, drop=True)\n",
    "# save dataframe to new parquet file\n",
    "df"
   ]
  }
 ],
 "metadata": {
  "kernelspec": {
   "display_name": ".venv",
   "language": "python",
   "name": "python3"
  },
  "language_info": {
   "codemirror_mode": {
    "name": "ipython",
    "version": 3
   },
   "file_extension": ".py",
   "mimetype": "text/x-python",
   "name": "python",
   "nbconvert_exporter": "python",
   "pygments_lexer": "ipython3",
   "version": "3.10.12"
  },
  "orig_nbformat": 4,
  "vscode": {
   "interpreter": {
    "hash": "f0062902cb4b9df9e0809a8228ed511b308970b3c491c06856ca85c2060eb45d"
   }
  }
 },
 "nbformat": 4,
 "nbformat_minor": 2
}
