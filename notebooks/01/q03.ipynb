{
 "cells": [
  {
   "attachments": {},
   "cell_type": "markdown",
   "metadata": {},
   "source": [
    "### Which player has the highest number of wins?"
   ]
  },
  {
   "cell_type": "code",
   "execution_count": 18,
   "metadata": {},
   "outputs": [
    {
     "data": {
      "text/plain": [
       "True"
      ]
     },
     "execution_count": 18,
     "metadata": {},
     "output_type": "execute_result"
    }
   ],
   "source": [
    "import os\n",
    "from dotenv import load_dotenv, find_dotenv\n",
    "\n",
    "dotenv_path = find_dotenv()\n",
    "load_dotenv(dotenv_path)"
   ]
  },
  {
   "attachments": {},
   "cell_type": "markdown",
   "metadata": {},
   "source": [
    "##### MySQL Solution"
   ]
  },
  {
   "cell_type": "code",
   "execution_count": 19,
   "metadata": {},
   "outputs": [],
   "source": [
    "from tennis_data_analysis.db.mysql import Database\n",
    "mysql = Database(os.environ.get('DB_HOST'), os.environ.get('DB_USERNAME'), os.environ.get('DB_PASSWORD'), os.environ.get('DB_DATABASE'), os.environ.get('DB_PORT'))"
   ]
  },
  {
   "attachments": {},
   "cell_type": "markdown",
   "metadata": {},
   "source": [
    "Aggregate sets and find winner per set from GameInfo table\n",
    "\n",
    "~~~sql\n",
    "SELECT match_id, set_id, MAX(home_score) AS home_score, MAX(away_score) AS away_score, IF(MAX(away_score) > MAX(home_score), 2, 1) AS winner_code\n",
    "FROM GameInfo\n",
    "GROUP BY match_id, set_id\n",
    "ORDER BY match_id ASC\n",
    "~~~\n",
    "\n",
    "**Step 1**\n",
    " Making aggregate table for GameInfo table with group by set_id and define winner in every set\n",
    "~~~sql\n",
    "SELECT match_id, set_id,\n",
    "    MAX(home_score) AS home_score,\n",
    "    MAX(away_score) AS away_score,\n",
    "    IF(MAX(home_score) > MAX(away_score), 1, 0) AS home_winner,\n",
    "    IF(MAX(away_score) > MAX(home_score), 1, 0) AS away_winner\n",
    "FROM GameInfo\n",
    "GROUP BY match_id, set_id\n",
    "ORDER BY match_id ASC\n",
    "~~~\n",
    "\n",
    "**Step 2**\n",
    "Insert result into GameInfoSets"
   ]
  },
  {
   "cell_type": "code",
   "execution_count": 20,
   "metadata": {},
   "outputs": [],
   "source": [
    "sql = \"\"\"SELECT match_id, set_id,\n",
    "    MAX(home_score) AS home_score,\n",
    "    MAX(away_score) AS away_score,\n",
    "    IF(MAX(home_score) > MAX(away_score), 1, 0) AS home_win,\n",
    "    IF(MAX(away_score) > MAX(home_score), 1, 0) AS away_win\n",
    "FROM GameInfo\n",
    "GROUP BY match_id, set_id\n",
    "ORDER BY match_id ASC\"\"\"\n",
    "db = mysql.conn().cursor(dictionary=True)\n",
    "db.execute(sql)\n",
    "result = db.fetchall()\n",
    "\n",
    "if result:\n",
    "    db.execute('TRUNCATE GameInfoSets')\n",
    "    for row in result:\n",
    "        sql = 'INSERT INTO GameInfoSets(match_id, set_id, home_score, away_score, home_win, away_win) VALUES(%s,%s,%s,%s,%s,%s)'\n",
    "        db.execute(sql, (row['match_id'], row['set_id'], row['home_score'], row['away_score'], row['home_win'], row['away_win']))\n",
    "    mysql.commit()"
   ]
  },
  {
   "attachments": {},
   "cell_type": "markdown",
   "metadata": {},
   "source": [
    "**Step 3** Find Winner of Every Match from GameInfoSets and insert into GameInfoResult\n",
    "\n",
    "~~~sql\n",
    "SELECT s.match_id,\n",
    "    SUM(s.home_win) AS home_win,\n",
    "    SUM(s.away_win) AS away_win,\n",
    "    IFNULL(IF(SUM(s.home_win) > SUM(s.away_win), hp.id, ap.id), 0) AS winner_player_id,\n",
    "    IFNULL(IF(SUM(s.home_win) < SUM(s.away_win), hp.id, ap.id), 0) AS loser_player_id\n",
    "FROM GameInfoSets AS s\n",
    "LEFT JOIN MatchHomeTeamInfo AS h ON h.match_id=s.match_id\n",
    "LEFT JOIN MatchAwayTeamInfo AS a ON a.match_id=s.match_id\n",
    "LEFT JOIN Players AS hp ON hp.slug=h.slug\n",
    "LEFT JOIN Players AS ap ON ap.slug=a.slug\n",
    "GROUP BY s.match_id\n",
    "~~~"
   ]
  },
  {
   "cell_type": "code",
   "execution_count": 32,
   "metadata": {},
   "outputs": [],
   "source": [
    "sql = \"\"\"SELECT s.match_id,\n",
    "    SUM(s.home_win) AS home_win,\n",
    "    SUM(s.away_win) AS away_win,\n",
    "    IFNULL(IF(SUM(s.home_win) > SUM(s.away_win), hp.id, ap.id), 0) AS winner_player_id,\n",
    "    IFNULL(IF(SUM(s.home_win) < SUM(s.away_win), hp.id, ap.id), 0) AS loser_player_id\n",
    "FROM GameInfoSets AS s\n",
    "LEFT JOIN MatchHomeTeamInfo AS h ON h.match_id=s.match_id\n",
    "LEFT JOIN MatchAwayTeamInfo AS a ON a.match_id=s.match_id\n",
    "LEFT JOIN Players AS hp ON hp.slug=h.slug\n",
    "LEFT JOIN Players AS ap ON ap.slug=a.slug\n",
    "GROUP BY s.match_id\"\"\"\n",
    "db = mysql.conn().cursor(dictionary=True)\n",
    "db.execute(sql)\n",
    "result = db.fetchall()\n",
    "\n",
    "if result:\n",
    "    db.execute('TRUNCATE GameInfoResult')\n",
    "    for row in result:\n",
    "        sql = 'INSERT INTO GameInfoResult(match_id, home_win, away_win, winner_player_id, loser_player_id) VALUES(%s,%s,%s,%s,%s)'\n",
    "        db.execute(sql, (row['match_id'], row['home_win'], row['away_win'], row['winner_player_id'], row['loser_player_id']))\n",
    "    mysql.commit()\n"
   ]
  },
  {
   "attachments": {},
   "cell_type": "markdown",
   "metadata": {},
   "source": [
    "**Step 4** Data is prepare in GameInfoResult"
   ]
  },
  {
   "cell_type": "code",
   "execution_count": 50,
   "metadata": {},
   "outputs": [
    {
     "name": "stdout",
     "output_type": "stream",
     "text": [
      "Highest number of win: 18\n",
      "Player name: uchijima-moyuka\n"
     ]
    }
   ],
   "source": [
    "sql = \"\"\"\n",
    "SELECT p.id AS player_id, p.full_name, p.slug, COUNT(r.winner_player_id) AS num_of_win\n",
    "FROM GameInfoResult AS r\n",
    "JOIN Players AS p ON p.id=r.winner_player_id\n",
    "WHERE r.winner_player_id\n",
    "GROUP BY r.winner_player_id\n",
    "ORDER BY num_of_win DESC\n",
    "LIMIT 1\n",
    "\"\"\"\n",
    "db.execute(sql)\n",
    "result = db.fetchone()\n",
    "\n",
    "if result:\n",
    "    print(\"Highest number of win: {}\\nPlayer name: {}\".format(result['num_of_win'], result['slug']))\n",
    "else:\n",
    "    print(\"Not Found\")\n"
   ]
  }
 ],
 "metadata": {
  "kernelspec": {
   "display_name": ".venv",
   "language": "python",
   "name": "python3"
  },
  "language_info": {
   "codemirror_mode": {
    "name": "ipython",
    "version": 3
   },
   "file_extension": ".py",
   "mimetype": "text/x-python",
   "name": "python",
   "nbconvert_exporter": "python",
   "pygments_lexer": "ipython3",
   "version": "3.10.12"
  },
  "orig_nbformat": 4,
  "vscode": {
   "interpreter": {
    "hash": "f0062902cb4b9df9e0809a8228ed511b308970b3c491c06856ca85c2060eb45d"
   }
  }
 },
 "nbformat": 4,
 "nbformat_minor": 2
}
