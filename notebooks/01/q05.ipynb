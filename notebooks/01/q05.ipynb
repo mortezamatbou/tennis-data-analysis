{
 "cells": [
  {
   "attachments": {},
   "cell_type": "markdown",
   "metadata": {},
   "source": [
    "### How many sets are typically played in a tennis match?"
   ]
  },
  {
   "cell_type": "code",
   "execution_count": null,
   "metadata": {},
   "outputs": [],
   "source": [
    "import os\n",
    "from dotenv import load_dotenv, find_dotenv\n",
    "\n",
    "dotenv_path = find_dotenv()\n",
    "load_dotenv(dotenv_path)"
   ]
  },
  {
   "attachments": {},
   "cell_type": "markdown",
   "metadata": {},
   "source": [
    "##### MySQL Solution"
   ]
  },
  {
   "attachments": {},
   "cell_type": "markdown",
   "metadata": {},
   "source": [
    "**Step 1** find total set per match_id and average of total set for all match_id from GameInfoSets table\n",
    "\n",
    "~~~sql\n",
    "SELECT match_id, COUNT(set_id) AS total_set FROM GameInfoSets GROUP BY match_id\n",
    "~~~\n",
    "\n",
    "Average for total_set column, is question answer.\n",
    "\n",
    "~~~sql\n",
    "SELECT AVG(s.total_set) AS set_avg\n",
    "FROM (\n",
    "    SELECT match_id, COUNT(set_id) AS total_set FROM GameInfoSets GROUP BY match_id\n",
    ") AS s\n",
    "~~~"
   ]
  },
  {
   "cell_type": "code",
   "execution_count": 3,
   "metadata": {},
   "outputs": [
    {
     "name": "stdout",
     "output_type": "stream",
     "text": [
      "Average played set: 2.2923\n"
     ]
    }
   ],
   "source": [
    "from tennis_data_analysis.db.mysql import Database\n",
    "\n",
    "mysql = Database(os.environ.get('DB_HOST'), os.environ.get('DB_USERNAME'), os.environ.get('DB_PASSWORD'), os.environ.get('DB_DATABASE'), os.environ.get('DB_PORT'), True)\n",
    "\n",
    "sql = \"\"\"\n",
    "SELECT AVG(s.total_set) AS set_avg\n",
    "FROM (\n",
    "    SELECT match_id, COUNT(set_id) AS total_set FROM GameInfoSets GROUP BY match_id\n",
    ") AS s\n",
    "\"\"\"\n",
    "\n",
    "mysql.db.execute(sql)\n",
    "result = mysql.db.fetchone()\n",
    "\n",
    "if result:\n",
    "    print(f\"Average played set: {result['set_avg']}\")\n",
    "else:\n",
    "    print(\"Not found!\")"
   ]
  }
 ],
 "metadata": {
  "kernelspec": {
   "display_name": ".venv",
   "language": "python",
   "name": "python3"
  },
  "language_info": {
   "codemirror_mode": {
    "name": "ipython",
    "version": 3
   },
   "file_extension": ".py",
   "mimetype": "text/x-python",
   "name": "python",
   "nbconvert_exporter": "python",
   "pygments_lexer": "ipython3",
   "version": "3.10.12"
  },
  "orig_nbformat": 4,
  "vscode": {
   "interpreter": {
    "hash": "f0062902cb4b9df9e0809a8228ed511b308970b3c491c06856ca85c2060eb45d"
   }
  }
 },
 "nbformat": 4,
 "nbformat_minor": 2
}
