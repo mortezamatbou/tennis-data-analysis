{
 "cells": [
  {
   "attachments": {},
   "cell_type": "markdown",
   "metadata": {},
   "source": [
    "### Which country has produced the most successful tennis players?\n"
   ]
  },
  {
   "cell_type": "code",
   "execution_count": 9,
   "metadata": {},
   "outputs": [],
   "source": [
    "import os\n",
    "from dotenv import load_dotenv, find_dotenv\n",
    "from tennis_data_analysis.db.mysql import Database\n",
    "import pandas as pd\n",
    "\n",
    "dotenv_path = find_dotenv()\n",
    "load_dotenv(dotenv_path)\n",
    "\n",
    "mysql = Database(os.environ.get('DB_HOST'), os.environ.get('DB_USERNAME'), os.environ.get('DB_PASSWORD'), os.environ.get('DB_DATABASE'), os.environ.get('DB_PORT'), True)\n"
   ]
  },
  {
   "attachments": {},
   "cell_type": "markdown",
   "metadata": {},
   "source": [
    "## SQL Solution"
   ]
  },
  {
   "attachments": {},
   "cell_type": "markdown",
   "metadata": {},
   "source": [
    "#### find best country players base on number of wins\n",
    "Top 10 country based on win"
   ]
  },
  {
   "cell_type": "code",
   "execution_count": 10,
   "metadata": {},
   "outputs": [
    {
     "name": "stdout",
     "output_type": "stream",
     "text": [
      "USA: 468\n",
      "Italy: 453\n",
      "France: 393\n",
      "Japan: 318\n",
      "Germany: 280\n",
      "Russia: 267\n",
      "Spain: 207\n",
      "Argentina: 196\n",
      "China: 195\n",
      "Australia: 189\n"
     ]
    }
   ],
   "source": [
    "sql = \"\"\"\n",
    "SELECT pl.country, SUM(wins.num_of_win) AS country_wins\n",
    "FROM (\n",
    "    SELECT p.id AS player_id, p.full_name, p.slug, COUNT(r.winner_player_id) AS num_of_win\n",
    "    FROM GameInfoResult AS r\n",
    "    LEFT JOIN Players AS p ON p.id=r.winner_player_id\n",
    "    WHERE r.winner_player_id != 0\n",
    "    GROUP BY r.winner_player_id\n",
    "    ORDER BY num_of_win DESC\n",
    ") AS wins\n",
    "JOIN Players AS pl ON pl.slug=wins.slug\n",
    "GROUP BY pl.country\n",
    "ORDER BY country_wins DESC\n",
    "LIMIT 10\n",
    "\"\"\"\n",
    "mysql.db.execute(sql)\n",
    "result = mysql.db.fetchall()\n",
    "\n",
    "if result:\n",
    "    for row in result:\n",
    "        print(f\"{row['country']}: {row['country_wins']}\")\n",
    "else:\n",
    "    print(\"Not Found\")\n"
   ]
  },
  {
   "attachments": {},
   "cell_type": "markdown",
   "metadata": {},
   "source": [
    "#### Find best country players base on average rank of players where count of country players is greater or equal than 50\n",
    "\n",
    "~~~sql\n",
    "SELECT p.country, AVG(current_rank) AS avg_rank\n",
    "FROM Players AS p\n",
    "WHERE p.current_rank > 0\n",
    "GROUP BY p.country\n",
    "HAVING COUNT(p.country) >= 50\n",
    "ORDER BY avg_rank ASC\n",
    "~~~"
   ]
  },
  {
   "cell_type": "code",
   "execution_count": 16,
   "metadata": {},
   "outputs": [
    {
     "name": "stdout",
     "output_type": "stream",
     "text": [
      "+-----+----------------+---------------+--------------------+\n",
      "|  #  | Country        |  Rank Averag  |  Count of players  |\n",
      "+=====+================+===============+====================+\n",
      "|  1  | Australia      |    547.444    |         72         |\n",
      "|  2  | Czech Republic |    568.833    |         60         |\n",
      "|  3  | France         |    572.55     |        151         |\n",
      "|  4  | Argentina      |    625.962    |         78         |\n",
      "|  5  | Russia         |    639.958    |        118         |\n",
      "|  6  | Spain          |    661.614    |         88         |\n",
      "|  7  | USA            |    673.544    |        204         |\n",
      "|  8  | Germany        |    702.645    |        107         |\n",
      "|  9  | United Kingdom |    707.431    |         65         |\n",
      "| 10  | China          |    711.915    |         71         |\n",
      "| 11  | Japan          |    758.093    |        118         |\n",
      "| 12  | Italy          |    781.258    |        178         |\n",
      "| 13  | Romania        |    800.533    |         60         |\n",
      "| 14  | Brazil         |    809.519    |         52         |\n",
      "+-----+----------------+---------------+--------------------+\n"
     ]
    }
   ],
   "source": [
    "import tabulate as tabulate\n",
    "\n",
    "sql = \"\"\"\n",
    "SELECT p.country, AVG(current_rank) AS avg_rank, COUNT(p.id) AS country_player_count\n",
    "FROM Players AS p\n",
    "WHERE p.current_rank > 0\n",
    "GROUP BY p.country\n",
    "HAVING country_player_count >= 50\n",
    "ORDER BY avg_rank ASC\n",
    "\"\"\"\n",
    "mysql.db.execute(sql)\n",
    "result = mysql.db.fetchall()\n",
    "\n",
    "if result:\n",
    "    result = [[i+1, row['country'], row['avg_rank'], row['country_player_count']] for i, row in enumerate(result)]\n",
    "    print(tabulate.tabulate(result, headers=['#', 'Country', 'Rank Averag', 'Count of players'], tablefmt='outline', stralign=\"left\", numalign=\"center\"))\n",
    "else:\n",
    "    print(\"Not Found\")\n"
   ]
  }
 ],
 "metadata": {
  "kernelspec": {
   "display_name": ".venv",
   "language": "python",
   "name": "python3"
  },
  "language_info": {
   "codemirror_mode": {
    "name": "ipython",
    "version": 3
   },
   "file_extension": ".py",
   "mimetype": "text/x-python",
   "name": "python",
   "nbconvert_exporter": "python",
   "pygments_lexer": "ipython3",
   "version": "3.10.12"
  },
  "orig_nbformat": 4,
  "vscode": {
   "interpreter": {
    "hash": "f0062902cb4b9df9e0809a8228ed511b308970b3c491c06856ca85c2060eb45d"
   }
  }
 },
 "nbformat": 4,
 "nbformat_minor": 2
}
