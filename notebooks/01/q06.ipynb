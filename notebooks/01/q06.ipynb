{
 "cells": [
  {
   "attachments": {},
   "cell_type": "markdown",
   "metadata": {},
   "source": [
    "### Which country has produced the most successful tennis players?\n"
   ]
  },
  {
   "cell_type": "code",
   "execution_count": 3,
   "metadata": {},
   "outputs": [
    {
     "data": {
      "text/plain": [
       "True"
      ]
     },
     "execution_count": 3,
     "metadata": {},
     "output_type": "execute_result"
    }
   ],
   "source": [
    "import os\n",
    "from dotenv import load_dotenv, find_dotenv\n",
    "from tennis_data_analysis.db.mysql import Database\n",
    "import pandas as pd\n",
    "\n",
    "dotenv_path = find_dotenv()\n",
    "load_dotenv(dotenv_path)\n",
    "\n"
   ]
  },
  {
   "attachments": {},
   "cell_type": "markdown",
   "metadata": {},
   "source": [
    "## SQL Solution"
   ]
  },
  {
   "attachments": {},
   "cell_type": "markdown",
   "metadata": {},
   "source": [
    "#### find best country players base on number of wins\n",
    "Top 10 country based on win"
   ]
  },
  {
   "cell_type": "code",
   "execution_count": 10,
   "metadata": {},
   "outputs": [
    {
     "name": "stdout",
     "output_type": "stream",
     "text": [
      "USA: 468\n",
      "Italy: 453\n",
      "France: 393\n",
      "Japan: 318\n",
      "Germany: 280\n",
      "Russia: 267\n",
      "Spain: 207\n",
      "Argentina: 196\n",
      "China: 195\n",
      "Australia: 189\n"
     ]
    }
   ],
   "source": [
    "mysql = Database(os.environ.get('DB_HOST'), os.environ.get('DB_USERNAME'), os.environ.get('DB_PASSWORD'), os.environ.get('DB_DATABASE'), os.environ.get('DB_PORT'), True)\n",
    "\n",
    "sql = \"\"\"\n",
    "SELECT pl.country, SUM(wins.num_of_win) AS country_wins\n",
    "FROM (\n",
    "    SELECT p.id AS player_id, p.full_name, p.slug, COUNT(r.winner_player_id) AS num_of_win\n",
    "    FROM GameInfoResult AS r\n",
    "    LEFT JOIN Players AS p ON p.id=r.winner_player_id\n",
    "    WHERE r.winner_player_id != 0\n",
    "    GROUP BY r.winner_player_id\n",
    "    ORDER BY num_of_win DESC\n",
    ") AS wins\n",
    "JOIN Players AS pl ON pl.slug=wins.slug\n",
    "GROUP BY pl.country\n",
    "ORDER BY country_wins DESC\n",
    "LIMIT 10\n",
    "\"\"\"\n",
    "mysql.db.execute(sql)\n",
    "result = mysql.db.fetchall()\n",
    "\n",
    "if result:\n",
    "    for row in result:\n",
    "        print(f\"{row['country']}: {row['country_wins']}\")\n",
    "else:\n",
    "    print(\"Not Found\")\n"
   ]
  },
  {
   "attachments": {},
   "cell_type": "markdown",
   "metadata": {},
   "source": [
    "#### Find best country players base on average rank of players where count of country players is greater or equal than 50\n",
    "\n",
    "~~~sql\n",
    "SELECT p.country, AVG(current_rank) AS avg_rank\n",
    "FROM Players AS p\n",
    "WHERE p.current_rank > 0\n",
    "GROUP BY p.country\n",
    "HAVING COUNT(p.country) >= 50\n",
    "ORDER BY avg_rank ASC\n",
    "~~~"
   ]
  },
  {
   "cell_type": "code",
   "execution_count": 16,
   "metadata": {},
   "outputs": [
    {
     "name": "stdout",
     "output_type": "stream",
     "text": [
      "+-----+----------------+---------------+--------------------+\n",
      "|  #  | Country        |  Rank Averag  |  Count of players  |\n",
      "+=====+================+===============+====================+\n",
      "|  1  | Australia      |    547.444    |         72         |\n",
      "|  2  | Czech Republic |    568.833    |         60         |\n",
      "|  3  | France         |    572.55     |        151         |\n",
      "|  4  | Argentina      |    625.962    |         78         |\n",
      "|  5  | Russia         |    639.958    |        118         |\n",
      "|  6  | Spain          |    661.614    |         88         |\n",
      "|  7  | USA            |    673.544    |        204         |\n",
      "|  8  | Germany        |    702.645    |        107         |\n",
      "|  9  | United Kingdom |    707.431    |         65         |\n",
      "| 10  | China          |    711.915    |         71         |\n",
      "| 11  | Japan          |    758.093    |        118         |\n",
      "| 12  | Italy          |    781.258    |        178         |\n",
      "| 13  | Romania        |    800.533    |         60         |\n",
      "| 14  | Brazil         |    809.519    |         52         |\n",
      "+-----+----------------+---------------+--------------------+\n"
     ]
    }
   ],
   "source": [
    "import tabulate as tabulate\n",
    "\n",
    "sql = \"\"\"\n",
    "SELECT p.country, AVG(current_rank) AS avg_rank, COUNT(p.id) AS country_player_count\n",
    "FROM Players AS p\n",
    "WHERE p.current_rank > 0\n",
    "GROUP BY p.country\n",
    "HAVING country_player_count >= 50\n",
    "ORDER BY avg_rank ASC\n",
    "\"\"\"\n",
    "mysql.db.execute(sql)\n",
    "result = mysql.db.fetchall()\n",
    "\n",
    "if result:\n",
    "    result = [[i+1, row['country'], row['avg_rank'], row['country_player_count']] for i, row in enumerate(result)]\n",
    "    print(tabulate.tabulate(result, headers=['#', 'Country', 'Rank Averag', 'Count of players'], tablefmt='outline', stralign=\"left\", numalign=\"center\"))\n",
    "else:\n",
    "    print(\"Not Found\")\n"
   ]
  },
  {
   "cell_type": "markdown",
   "metadata": {},
   "source": [
    "## Pandas Solution"
   ]
  },
  {
   "cell_type": "markdown",
   "metadata": {},
   "source": [
    "#### Make new parquet for result of each set"
   ]
  },
  {
   "cell_type": "code",
   "execution_count": 224,
   "metadata": {},
   "outputs": [],
   "source": [
    "from tennis_data_analysis.config import RAW_DATA_DIR\n",
    "\n",
    "# Make GameInfoSets.parquet and GameInfoResult.parquet\n",
    "\n",
    "V1_DATA_RAW_DIR = RAW_DATA_DIR / '01'\n",
    "\n",
    "game_info_df = pd.read_parquet(V1_DATA_RAW_DIR / \"GameInfo.parquet\")\n",
    "game_info_df = game_info_df.groupby(['match_id', 'set_id'])[['home_score', 'away_score']].max()\n",
    "\n",
    "df = pd.DataFrame([], columns=['match_id', 'set_id', 'home_score', 'away_score'])\n",
    "\n",
    "for i, v in game_info_df.iterrows():\n",
    "    s = pd.DataFrame({'match_id': [i[0]], 'set_id': [i[1]], 'home_score': [v['home_score']], 'away_score': [v['away_score']]})\n",
    "    df = pd.concat([df, s], ignore_index=True)\n",
    "\n",
    "def is_home_winner(x):\n",
    "    if x['home_score'] >= x['away_score']:\n",
    "        return 1\n",
    "    return 0\n",
    "\n",
    "def is_away_winner(x):\n",
    "    if x['away_score'] >= x['home_score']:\n",
    "        return 1\n",
    "    return 0\n",
    "\n",
    "df['home_win'] = df.apply(is_home_winner, axis=1)\n",
    "df['away_win'] = df.apply(is_away_winner, axis=1)\n",
    "\n",
    "df.to_parquet(V1_DATA_RAW_DIR / 'GameInfoSets.parquet')\n"
   ]
  },
  {
   "cell_type": "markdown",
   "metadata": {},
   "source": [
    "#### Find final result for every match id and save to V1_DATA_RAW_DIR/GameInfoResult.parquet"
   ]
  },
  {
   "cell_type": "code",
   "execution_count": 341,
   "metadata": {},
   "outputs": [],
   "source": [
    "df = pd.read_parquet(V1_DATA_RAW_DIR / 'GameInfoSets.parquet')\n",
    "df = df.set_index('match_id')\n",
    "\n",
    "\n",
    "df_home_team_info = pd.read_parquet(V1_DATA_RAW_DIR / 'MatchHomeTeamInfo.parquet')\n",
    "df_away_team_info = pd.read_parquet(V1_DATA_RAW_DIR / 'MatchAwayTeamInfo.parquet')\n",
    "df_tournaments = pd.read_parquet(V1_DATA_RAW_DIR / 'MatchTournamentInfo.parquet')\n",
    "df_event = pd.read_parquet(V1_DATA_RAW_DIR / 'MatchEventInfo.parquet')\n",
    "df_players = pd.read_parquet(V1_DATA_RAW_DIR / 'Players.parquet')\n",
    "\n",
    "\n",
    "def find_winner(row):\n",
    "    if row['home_win_count'] > row['away_win_count']:\n",
    "        player = df_home_team_info[df_home_team_info['match_id'] == row['match_id']]\n",
    "        return player.iloc[0]['slug'] if not player.empty else 'unknow'\n",
    "    else:\n",
    "        player = df_away_team_info[df_away_team_info['match_id'] == row['match_id']]\n",
    "        return player.iloc[0]['slug'] if not player.empty else 'unknow'\n",
    "\n",
    "\n",
    "def find_loser(row):\n",
    "    if row['home_win_count'] < row['away_win_count']:\n",
    "        player = df_home_team_info[df_home_team_info['match_id'] == row['match_id']]\n",
    "        return player.iloc[0]['slug'] if not player.empty else 'unknow'\n",
    "    else:\n",
    "        player = df_away_team_info[df_away_team_info['match_id'] == row['match_id']]\n",
    "        return player.iloc[0]['slug'] if not player.empty else 'unknow'\n",
    "\n",
    "\n",
    "def find_first_to_serve(row):\n",
    "    event = df_event[df_event['match_id'] == row['match_id']]\n",
    "    return event.iloc[0]['first_to_serve'] if not event.empty else 0\n",
    "\n",
    "\n",
    "def find_start_datetime(row):\n",
    "    event = df_event[df_event['match_id'] == row['match_id']]\n",
    "    return event.iloc[0]['start_datetime'] if not event.empty else 0\n",
    "\n",
    "\n",
    "def find_tournament_id(row):\n",
    "    event = df_tournaments[df_event['match_id'] == row['match_id']]\n",
    "    return event.iloc[0]['tournament_id'] if not event.empty else 0\n",
    "\n",
    "\n",
    "df['home_win_count'] = df.groupby('match_id', as_index=True)['home_win'].sum()\n",
    "df['away_win_count'] = df.groupby('match_id', as_index=True)['away_win'].sum()\n",
    "\n",
    "\n",
    "df = df.reset_index().drop_duplicates(subset='match_id', keep='last')[['match_id', 'home_win_count', 'away_win_count']]\n",
    "\n",
    "df['winner_player_id'] = df.apply(find_winner, axis=1)\n",
    "df['loser_player_id'] = df.apply(find_loser, axis=1)\n",
    "\n",
    "df['first_to_serve'] = df.apply(find_first_to_serve, axis=1)\n",
    "df['start_datetime'] = df.apply(find_start_datetime, axis=1)\n",
    "df['tournament_id'] = df.apply(find_tournament_id, axis=1)\n",
    "\n",
    "df = df.merge(df_players[['slug', 'country']].rename(columns={\"country\": \"winner_country\"}), left_on='winner_player_id', right_on='slug').drop(columns=['slug'])\n",
    "df = df.merge(df_players[['slug', 'country']].rename(columns={\"country\": \"loser_country\"}), left_on='loser_player_id', right_on='slug').drop(columns=['slug'])\n",
    "df.to_parquet(V1_DATA_RAW_DIR / 'GameInfoResult.parquet')"
   ]
  },
  {
   "cell_type": "markdown",
   "metadata": {},
   "source": [
    "## Find winner countries from GameInfoResult.parquet"
   ]
  },
  {
   "cell_type": "code",
   "execution_count": 362,
   "metadata": {},
   "outputs": [
    {
     "data": {
      "text/plain": [
       "winner_country\n",
       "USA        410\n",
       "Italy      356\n",
       "France     342\n",
       "Japan      257\n",
       "Russia     228\n",
       "          ... \n",
       "Burundi      1\n",
       "Iran         1\n",
       "Nigeria      1\n",
       "Senegal      1\n",
       "Syria        1\n",
       "Name: winner_country, Length: 89, dtype: int64"
      ]
     },
     "execution_count": 362,
     "metadata": {},
     "output_type": "execute_result"
    }
   ],
   "source": [
    "import pandas as pd\n",
    "from tennis_data_analysis.config import RAW_DATA_DIR\n",
    "V1_DATA_RAW_DIR = RAW_DATA_DIR / '01'\n",
    "df = pd.read_parquet(V1_DATA_RAW_DIR / 'GameInfoResult.parquet')\n",
    "df.groupby(['winner_country'])['winner_country'].count().sort_values(ascending=False)"
   ]
  }
 ],
 "metadata": {
  "kernelspec": {
   "display_name": ".venv",
   "language": "python",
   "name": "python3"
  },
  "language_info": {
   "codemirror_mode": {
    "name": "ipython",
    "version": 3
   },
   "file_extension": ".py",
   "mimetype": "text/x-python",
   "name": "python",
   "nbconvert_exporter": "python",
   "pygments_lexer": "ipython3",
   "version": "3.10.12"
  },
  "orig_nbformat": 4,
  "vscode": {
   "interpreter": {
    "hash": "f0062902cb4b9df9e0809a8228ed511b308970b3c491c06856ca85c2060eb45d"
   }
  }
 },
 "nbformat": 4,
 "nbformat_minor": 2
}
