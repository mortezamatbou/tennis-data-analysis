{
 "cells": [
  {
   "attachments": {},
   "cell_type": "markdown",
   "metadata": {},
   "source": [
    "### Which player has won the most tournaments in a single month?"
   ]
  },
  {
   "cell_type": "code",
   "execution_count": 2,
   "metadata": {},
   "outputs": [
    {
     "data": {
      "text/plain": [
       "True"
      ]
     },
     "execution_count": 2,
     "metadata": {},
     "output_type": "execute_result"
    }
   ],
   "source": [
    "import os\n",
    "from dotenv import load_dotenv, find_dotenv\n",
    "\n",
    "dotenv_path = find_dotenv()\n",
    "load_dotenv(dotenv_path)"
   ]
  },
  {
   "attachments": {},
   "cell_type": "markdown",
   "metadata": {},
   "source": [
    "##### SQL Solution\n",
    "**Step 1** group by matches result with tournament\n",
    "\n",
    "----\n",
    "\n",
    "\n",
    "**tournament matches number**\n",
    "\n",
    "~~~sql\n",
    "SELECT t.tournament_slug, COUNT(t.match_id) AS matches_count\n",
    "FROM GameInfoResult AS r\n",
    "LEFT JOIN MatchTournamentInfo AS t ON t.match_id=r.match_id\n",
    "GROUP BY t.tournament_slug\n",
    "ORDER BY matches_count DESC;\n",
    "~~~\n",
    "\n",
    "Find wins of players for a tournament\n",
    "~~~sql\n",
    "SELECT t.tournament_name, t.tournament_slug, r.start_datetime, r.winner_player_id, p.slug AS player_slug, COUNT(r.winner_player_id) AS win_count\n",
    "FROM GameInfoResult AS r\n",
    "LEFT JOIN Tournaments AS t ON t.tournament_id=r.tournament_id\n",
    "LEFT JOIN Players AS p ON p.id=r.winner_player_id\n",
    "WHERE r.tournament_id=129164\n",
    "GROUP BY r.winner_player_id, r.tournament_id, YEAR(r.start_datetime), MONTH(start_datetime)\n",
    "ORDER BY win_count DESC\n",
    "~~~\n",
    "\n",
    "Group by tournament id and winner players win count\n",
    "~~~sql\n",
    "SELECT o.tournament_name, o.tournament_id, o.player_slug, o.start_datetime, o.winner_player_id, MAX(o.win_count) AS win_count\n",
    "FROM(\n",
    "    SELECT t.tournament_id, t.tournament_name, t.tournament_slug, CONCAT(YEAR(r.start_datetime), '-', MONTH(r.start_datetime)) AS start_datetime, r.winner_player_id, p.slug AS player_slug, COUNT(r.winner_player_id) AS win_count\n",
    "    FROM GameInfoResult AS r\n",
    "    LEFT JOIN Tournaments AS t ON t.tournament_id=r.tournament_id\n",
    "    LEFT JOIN Players AS p ON p.id=r.winner_player_id\n",
    "    WHERE r.winner_player_id != 0\n",
    "    GROUP BY r.winner_player_id, r.tournament_id, YEAR(r.start_datetime), MONTH(start_datetime)\n",
    "    ORDER BY YEAR(r.start_datetime) DESC, MONTH(r.start_datetime) DESC, win_count DESC\n",
    ") AS o GROUP BY o.start_datetime, o.tournament_id ORDER BY win_count DESC LIMIT 1;\n",
    "~~~\n",
    "\n"
   ]
  },
  {
   "cell_type": "code",
   "execution_count": 5,
   "metadata": {},
   "outputs": [
    {
     "name": "stdout",
     "output_type": "stream",
     "text": [
      "+-----------------+------------------+\n",
      "| tournament_name | Rome, Italy      |\n",
      "| tournament_id   | 129829           |\n",
      "| date            | 2024-5           |\n",
      "| player_slug     | zverev-alexander |\n",
      "| player_id       | 4                |\n",
      "| win_count       | 6                |\n",
      "+-----------------+------------------+\n"
     ]
    }
   ],
   "source": [
    "from tennis_data_analysis.db.mysql import Database\n",
    "import tabulate as tabulate;\n",
    "\n",
    "mysql = Database(os.environ.get('DB_HOST'), os.environ.get('DB_USERNAME'), os.environ.get('DB_PASSWORD'), os.environ.get('DB_DATABASE'), os.environ.get('DB_PORT'), True)\n",
    "\n",
    "sql = \"\"\"\n",
    "SELECT o.tournament_name, o.tournament_id, o.start_datetime AS `date`, o.player_slug, o.winner_player_id AS player_id, MAX(o.win_count) AS win_count\n",
    "FROM(\n",
    "    SELECT t.tournament_id, t.tournament_name, t.tournament_slug, CONCAT(YEAR(r.start_datetime), '-', MONTH(r.start_datetime)) AS start_datetime, r.winner_player_id, p.slug AS player_slug, COUNT(r.winner_player_id) AS win_count\n",
    "    FROM GameInfoResult AS r\n",
    "    LEFT JOIN Tournaments AS t ON t.tournament_id=r.tournament_id\n",
    "    LEFT JOIN Players AS p ON p.id=r.winner_player_id\n",
    "    WHERE r.winner_player_id != 0\n",
    "    GROUP BY r.winner_player_id, r.tournament_id, YEAR(r.start_datetime), MONTH(start_datetime)\n",
    "    ORDER BY YEAR(r.start_datetime) DESC, MONTH(r.start_datetime) DESC, win_count DESC\n",
    ") AS o GROUP BY o.start_datetime, o.tournament_id ORDER BY win_count DESC LIMIT 1;\n",
    "\"\"\"\n",
    "mysql.db.execute(sql)\n",
    "result = mysql.db.fetchone()\n",
    "\n",
    "if result:\n",
    "    result = [[col, result[col]] for col in result]\n",
    "    print(tabulate.tabulate(result, tablefmt='outline', stralign=\"left\", numalign=\"center\"))\n",
    "else:\n",
    "    print(\"Not Found!\")\n",
    "\n"
   ]
  }
 ],
 "metadata": {
  "kernelspec": {
   "display_name": ".venv",
   "language": "python",
   "name": "python3"
  },
  "language_info": {
   "codemirror_mode": {
    "name": "ipython",
    "version": 3
   },
   "file_extension": ".py",
   "mimetype": "text/x-python",
   "name": "python",
   "nbconvert_exporter": "python",
   "pygments_lexer": "ipython3",
   "version": "3.10.12"
  },
  "orig_nbformat": 4,
  "vscode": {
   "interpreter": {
    "hash": "f0062902cb4b9df9e0809a8228ed511b308970b3c491c06856ca85c2060eb45d"
   }
  }
 },
 "nbformat": 4,
 "nbformat_minor": 2
}
