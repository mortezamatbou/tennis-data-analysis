{
 "cells": [
  {
   "attachments": {},
   "cell_type": "markdown",
   "metadata": {},
   "source": [
    "### What is the longest match recorded in terms of duration?"
   ]
  },
  {
   "cell_type": "code",
   "execution_count": null,
   "metadata": {},
   "outputs": [],
   "source": [
    "import os\n",
    "from dotenv import load_dotenv, find_dotenv\n",
    "\n",
    "dotenv_path = find_dotenv()\n",
    "load_dotenv(dotenv_path)"
   ]
  },
  {
   "attachments": {},
   "cell_type": "markdown",
   "metadata": {},
   "source": [
    "##### MySQL Solution"
   ]
  },
  {
   "attachments": {},
   "cell_type": "markdown",
   "metadata": {},
   "source": [
    "~~~sql\n",
    "SELECT t.match_id,\n",
    "(t.period_1+t.period_2+t.period_3+t.period_4+t.period_5) AS match_duration,\n",
    "wp.slug AS winner_player, lp.slug AS loser_player,\n",
    "tr.tournament_name, FROM_UNIXTIME(e.start_datetime, \"%Y-%m-%d %H:%i\") AS start_datetime\n",
    "FROM MatchTimeInfo AS t\n",
    "JOIN GameInfoResult AS r ON r.match_id=t.match_id\n",
    "JOIN MatchTournamentInfo AS tr ON tr.match_id=t.match_id\n",
    "JOIN MatchEventInfo AS e ON e.match_id=t.match_id\n",
    "JOIN Players AS wp ON wp.id=r.winner_player_id\n",
    "JOIN Players AS lp ON lp.id=r.loser_player_id\n",
    "ORDER BY match_duration DESC LIMIT 1\n",
    "~~~"
   ]
  },
  {
   "cell_type": "code",
   "execution_count": 63,
   "metadata": {},
   "outputs": [
    {
     "name": "stdout",
     "output_type": "stream",
     "text": [
      "+-----------------------+-------------------------------------+\n",
      "| match_id              | 12346747                            |\n",
      "| match_duration_second | 171153                              |\n",
      "| winner_player         | pieri-samuele                       |\n",
      "| loser_player          | vulpitta-gabriele                   |\n",
      "| tournament_name       | Cervia, Singles Main, M-ITF-ITA-14A |\n",
      "| start_datetime        | 2024-05-20 14:00                    |\n",
      "| match_duration_hour   | 47.54                               |\n",
      "+-----------------------+-------------------------------------+\n"
     ]
    }
   ],
   "source": [
    "from tennis_data_analysis.db.mysql import Database\n",
    "import tabulate as tabulate\n",
    "\n",
    "mysql = Database(os.environ.get('DB_HOST'), os.environ.get('DB_USERNAME'), os.environ.get('DB_PASSWORD'), os.environ.get('DB_DATABASE'), os.environ.get('DB_PORT'), True)\n",
    "\n",
    "sql = \"\"\"\n",
    "SELECT t.match_id,\n",
    "(t.period_1+t.period_2+t.period_3+t.period_4+t.period_5) AS match_duration_second,\n",
    "wp.slug AS winner_player, lp.slug AS loser_player,\n",
    "tr.tournament_name, FROM_UNIXTIME(e.start_datetime, \"%Y-%m-%d %H:%i\") AS start_datetime\n",
    "FROM MatchTimeInfo AS t\n",
    "JOIN GameInfoResult AS r ON r.match_id=t.match_id\n",
    "JOIN MatchTournamentInfo AS tr ON tr.match_id=t.match_id\n",
    "JOIN MatchEventInfo AS e ON e.match_id=t.match_id\n",
    "JOIN Players AS wp ON wp.id=r.winner_player_id\n",
    "JOIN Players AS lp ON lp.id=r.loser_player_id\n",
    "ORDER BY match_duration_second DESC LIMIT 1\n",
    "\"\"\"\n",
    "\n",
    "mysql.db.execute(sql)\n",
    "result = mysql.db.fetchone()\n",
    "\n",
    "if result:\n",
    "    result['match_duration_hour'] = \"{:.2f}\".format(result['match_duration_second'] / 60 / 60)\n",
    "    data = [[k, result[k]] for k in result]\n",
    "    print(tabulate.tabulate(data, tablefmt='outline', stralign=\"left\", numalign=\"center\"))\n",
    "else:\n",
    "    print('Not Found!')\n"
   ]
  }
 ],
 "metadata": {
  "kernelspec": {
   "display_name": ".venv",
   "language": "python",
   "name": "python3"
  },
  "language_info": {
   "codemirror_mode": {
    "name": "ipython",
    "version": 3
   },
   "file_extension": ".py",
   "mimetype": "text/x-python",
   "name": "python",
   "nbconvert_exporter": "python",
   "pygments_lexer": "ipython3",
   "version": "3.10.12"
  },
  "orig_nbformat": 4,
  "vscode": {
   "interpreter": {
    "hash": "f0062902cb4b9df9e0809a8228ed511b308970b3c491c06856ca85c2060eb45d"
   }
  }
 },
 "nbformat": 4,
 "nbformat_minor": 2
}
