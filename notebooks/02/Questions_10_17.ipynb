{
 "cells": [
  {
   "cell_type": "code",
   "execution_count": 2,
   "id": "f09b4c2c",
   "metadata": {},
   "outputs": [],
   "source": [
    "import pandas as pd\n",
    "import numpy as np\n",
    "import seaborn as sbn\n",
    "import matplotlib.pyplot as plt"
   ]
  },
  {
   "cell_type": "code",
   "execution_count": 3,
   "id": "0dde6de0",
   "metadata": {},
   "outputs": [],
   "source": [
    "MatchEventInfo = pd.read_parquet('../Cleaned_data/MatchEventInfo.parquet')\n",
    "MatchVotesInfo = pd.read_parquet('../Cleaned_data/MatchVotesInfo.parquet')\n",
    "MatchTournamentInfo = pd.read_parquet('../Cleaned_data/MatchTournamentInfo.parquet')\n",
    "MatchSeasonInfo = pd.read_parquet('../Cleaned_data/MatchSeasonInfo.parquet')\n",
    "MatchVenueInfo = pd.read_parquet('../Cleaned_data/MatchVenueInfo.parquet')\n",
    "MatchAwayTeamInfo = pd.read_parquet('../Cleaned_data/MatchAwayTeamInfo.parquet')\n",
    "MatchAwayScoreInfo = pd.read_parquet('../Cleaned_data/MatchAwayScoreInfo.parquet')\n",
    "MatchRoundInfo = pd.read_parquet('../Cleaned_data/MatchRoundInfo.parquet')\n",
    "MatchHomeScoreInfo = pd.read_parquet('../Cleaned_data/MatchHomeScoreInfo.parquet')\n",
    "MatchHomeTeamInfo = pd.read_parquet('../Cleaned_data/MatchHomeTeamInfo.parquet')\n",
    "PowerInfo = pd.read_parquet('../Cleaned_data/PowerInfo.parquet')\n",
    "GameInfo = pd.read_parquet('../Cleaned_data/GameInfo.parquet')\n",
    "OddsInfo = pd.read_parquet('../Cleaned_data/OddsInfo.parquet')\n",
    "TimeInfo = pd.read_parquet('../Cleaned_data/TimeInfo.parquet')\n",
    "PeriodInfo = pd.read_parquet('../Cleaned_data/PeriodInfo.parquet')"
   ]
  },
  {
   "cell_type": "markdown",
   "id": "ab24dbb5",
   "metadata": {},
   "source": [
    "# Q_10"
   ]
  },
  {
   "cell_type": "code",
   "execution_count": null,
   "id": "70ce9189",
   "metadata": {},
   "outputs": [],
   "source": [
    "home_player = MatchHomeTeamInfo[['player_id', 'full_name', 'gender', 'height','weight','plays','current_rank']]\n",
    "away_player = MatchAwayTeamInfo[['player_id', 'full_name', 'gender','height','weight','plays','current_rank']]"
   ]
  },
  {
   "cell_type": "code",
   "execution_count": null,
   "id": "080c671f",
   "metadata": {},
   "outputs": [],
   "source": [
    "players = pd.concat([home_player,away_player], axis=0)\n",
    "players.drop_duplicates(inplace=True)\n",
    "player_with_rank = players.loc[players['current_rank'].ne(-1)]"
   ]
  },
  {
   "cell_type": "code",
   "execution_count": null,
   "id": "bc88fa73",
   "metadata": {},
   "outputs": [],
   "source": [
    "male_player = player_with_rank[player_with_rank['gender'].eq('M')]\n",
    "female_player = player_with_rank[player_with_rank['gender'].eq('F')]\n"
   ]
  },
  {
   "cell_type": "code",
   "execution_count": null,
   "id": "02dcf97d",
   "metadata": {},
   "outputs": [],
   "source": [
    "players_corr = player_with_rank['height'].corr(player_with_rank['current_rank'])\n",
    "male_player_corr = male_player['height'].corr(male_player['current_rank'])\n",
    "female_player_corr = female_player['height'].corr(female_player['current_rank'])\n",
    "print(f'Height_Rank_correlation for All the player: {players_corr}')\n",
    "print(f'Height_Rank_correlation for Male the player: {male_player_corr}')\n",
    "print(f'Height_Rank_correlation for Female the player: {female_player_corr}')"
   ]
  },
  {
   "cell_type": "markdown",
   "id": "875f88c7",
   "metadata": {},
   "source": [
    "An analysis of the correlation between height and ranking reveals that, for males, there is no strong relationship between these two variables. This suggests that factors other than height are more significant in determining rankings among males. In contrast, for females, there is a somewhat stronger correlation between height and ranking, indicating that height may play a more noticeable role in influencing rankings in this group."
   ]
  },
  {
   "cell_type": "markdown",
   "id": "87ade51e",
   "metadata": {},
   "source": [
    "# Q_11"
   ]
  },
  {
   "cell_type": "code",
   "execution_count": null,
   "id": "eeb041ea",
   "metadata": {},
   "outputs": [],
   "source": [
    "TimeInfo.head()"
   ]
  },
  {
   "cell_type": "code",
   "execution_count": null,
   "id": "d556b07f",
   "metadata": {},
   "outputs": [],
   "source": [
    "matchid_index = TimeInfo.set_index(['match_id'])[['period_1','period_2','period_3','period_4','period_5']]\n",
    "avg_duration = round(matchid_index[matchid_index.ne(0)].mean(axis=1),3)\n",
    "avg_duration_df = pd.DataFrame({'match_id': avg_duration.index, 'average_duration': avg_duration})\n",
    "avg_duration_df.reset_index(drop=True, inplace=True)\n",
    "# Average Duration of Periods in each Match\n",
    "avg_duration_df"
   ]
  },
  {
   "cell_type": "code",
   "execution_count": null,
   "id": "3a9022f1",
   "metadata": {},
   "outputs": [],
   "source": [
    "time_subset = TimeInfo.drop(columns=['current_period_start_timestamp'])\n",
    "time_subset = time_subset.set_index('match_id')\n",
    "sum_of_periods = (time_subset[time_subset.ne(0)].sum(axis=1)).rename('periods_sum').reset_index()\n",
    "avg_of_all_matches = sum_of_periods['periods_sum'].mean()   \n",
    "print(f'The Average Duration of Matches in May: {avg_of_all_matches}')"
   ]
  },
  {
   "cell_type": "markdown",
   "id": "4a91a7bf",
   "metadata": {},
   "source": [
    "# Q_12"
   ]
  },
  {
   "cell_type": "code",
   "execution_count": null,
   "id": "58dc7d8d",
   "metadata": {},
   "outputs": [],
   "source": [
    "home_player = MatchHomeTeamInfo[['match_id', 'player_id', 'full_name', 'gender']]\n",
    "away_player = MatchHomeTeamInfo[['match_id', 'player_id','full_name', 'gender']]\n",
    "players_in_match = pd.concat([home_player, away_player])"
   ]
  },
  {
   "cell_type": "code",
   "execution_count": null,
   "id": "fe0255a4",
   "metadata": {},
   "outputs": [],
   "source": [
    "male_matchid = players_in_match.loc[players_in_match['gender'].eq('M'), 'match_id']\n",
    "femal_matchid = players_in_match.loc[players_in_match['gender'].eq('F'), 'match_id']\n",
    "male_matchid.drop_duplicates(inplace=True)\n",
    "femal_matchid.drop_duplicates(inplace=True)"
   ]
  },
  {
   "cell_type": "code",
   "execution_count": null,
   "id": "5bab9bbc",
   "metadata": {},
   "outputs": [],
   "source": [
    "game_info_male = GameInfo[GameInfo['match_id'].isin(male_matchid)]\n",
    "game_info_female = GameInfo[GameInfo['match_id'].isin(femal_matchid)]"
   ]
  },
  {
   "cell_type": "code",
   "execution_count": null,
   "id": "867e7063",
   "metadata": {},
   "outputs": [],
   "source": [
    "male_game_per_set = (game_info_male\n",
    "                     .groupby(['match_id', 'set_id'])['game_id']\n",
    "                     .max()\n",
    "                     .rename('max_game_id')\n",
    "                     .reset_index()\n",
    "                     .groupby('set_id')['max_game_id']\n",
    "                     .mean()\n",
    "                     .rename('Mean Game per Set')\n",
    "                     .reset_index()\n",
    "                    )\n",
    "male_game_per_set\n",
    "                "
   ]
  },
  {
   "cell_type": "code",
   "execution_count": null,
   "id": "5c4aafe0",
   "metadata": {},
   "outputs": [],
   "source": [
    "female_game_per_set = (game_info_female\n",
    "                .groupby(['match_id', 'set_id'])['game_id']\n",
    "                .max()\n",
    "                .rename('max_game_id')\n",
    "                .reset_index()\n",
    "                .groupby('set_id')['max_game_id']\n",
    "                .mean()\n",
    "                .rename('Mean Game per Set')\n",
    "                .reset_index())\n",
    "female_game_per_set"
   ]
  },
  {
   "cell_type": "markdown",
   "id": "d117e42a",
   "metadata": {},
   "source": [
    "# Q_13"
   ]
  },
  {
   "cell_type": "code",
   "execution_count": null,
   "id": "c26110eb",
   "metadata": {},
   "outputs": [],
   "source": [
    "# first we merge all the players\n",
    "away_players = MatchAwayTeamInfo[['player_id','full_name','plays']]\n",
    "home_players = MatchHomeTeamInfo[['player_id','full_name','plays']]\n",
    "players = pd.concat([away_players,home_players])\n",
    "players.drop_duplicates(inplace=True)"
   ]
  },
  {
   "cell_type": "code",
   "execution_count": null,
   "id": "e70e24da",
   "metadata": {},
   "outputs": [],
   "source": [
    "players"
   ]
  },
  {
   "cell_type": "code",
   "execution_count": null,
   "id": "ac953929",
   "metadata": {},
   "outputs": [],
   "source": [
    "num_left_handed = len(players.loc[players['plays'].eq('left-handed')])\n",
    "num_right_handed = len(players.loc[players['plays'].eq('right-handed')])\n",
    "num_all_players = players.shape[0]\n",
    "perc_of_left_handed = num_left_handed / num_all_players\n",
    "perc_of_right_handed = num_right_handed / num_all_players"
   ]
  },
  {
   "cell_type": "code",
   "execution_count": null,
   "id": "0326c6b7",
   "metadata": {},
   "outputs": [],
   "source": [
    "print(f\"Right Handed Players: {perc_of_right_handed:.2%}\")\n",
    "print(f\"Left Handed Players: {perc_of_left_handed:.2%}\")"
   ]
  },
  {
   "cell_type": "code",
   "execution_count": null,
   "id": "69b70c0d",
   "metadata": {},
   "outputs": [],
   "source": [
    "plt.pie([perc_of_left_handed,perc_of_right_handed], colors=['lightgreen','lightblue'],explode=(0.1,0) ,\n",
    "        autopct='%1.1f%%', labels=['Left Handed','Right Handed'],shadow=True, startangle=140)\n",
    "plt.title('Distribution of Left Handed and Right Handed Players')\n",
    "plt.axis('equal')\n",
    "plt.show()\n",
    "\n"
   ]
  },
  {
   "cell_type": "markdown",
   "id": "e209a655",
   "metadata": {},
   "source": [
    "The Analysis shows most of players (around 75%) are right handed."
   ]
  },
  {
   "cell_type": "markdown",
   "id": "1923621b",
   "metadata": {},
   "source": [
    "# Q_14"
   ]
  },
  {
   "cell_type": "code",
   "execution_count": null,
   "id": "79242a4b",
   "metadata": {},
   "outputs": [],
   "source": [
    "ground_count = MatchTournamentInfo['ground_type'].value_counts()"
   ]
  },
  {
   "cell_type": "code",
   "execution_count": null,
   "id": "bb6fffec",
   "metadata": {},
   "outputs": [],
   "source": [
    "plt.figure(figsize=(6,4))\n",
    "ground_count.plot(kind='bar')\n",
    "plt.xlabel('Ground Type')\n",
    "plt.ylabel('Count')\n",
    "plt.xticks(rotation=45)\n",
    "plt.legend()\n",
    "plt.show()"
   ]
  },
  {
   "cell_type": "markdown",
   "id": "20b1526b",
   "metadata": {},
   "source": [
    "The analysis indicates that majority of matches were held on 'Red Clay' ground."
   ]
  },
  {
   "cell_type": "markdown",
   "id": "10d7e132",
   "metadata": {},
   "source": [
    "# Q_15"
   ]
  },
  {
   "cell_type": "code",
   "execution_count": null,
   "id": "49589e22",
   "metadata": {},
   "outputs": [],
   "source": [
    "away_players = MatchAwayTeamInfo[['player_id', 'country']]\n",
    "home_players = MatchHomeTeamInfo[['player_id', 'country']]\n",
    "players = pd.concat([away_players,home_players])\n",
    "players.drop_duplicates(inplace=True)\n",
    "countries_from_players = players['country']"
   ]
  },
  {
   "cell_type": "code",
   "execution_count": null,
   "id": "d580db3d",
   "metadata": {},
   "outputs": [],
   "source": [
    "countries_from_venue = MatchVenueInfo['country']\n",
    "all_unique_countries = len(pd.concat([countries_from_players,countries_from_venue]).unique())\n",
    "print(f'Countries That are repersented in the dataset: {all_unique_countries}')"
   ]
  },
  {
   "cell_type": "markdown",
   "id": "7c97320b",
   "metadata": {},
   "source": [
    "# Q_16"
   ]
  },
  {
   "cell_type": "code",
   "execution_count": null,
   "id": "72a71bce",
   "metadata": {},
   "outputs": [],
   "source": [
    "away_players = MatchAwayTeamInfo[['player_id', 'full_name', 'gender','current_rank']]\n",
    "home_players = MatchHomeTeamInfo[['player_id', 'full_name', 'gender','current_rank']]\n",
    "players = pd.concat([away_players,home_players])"
   ]
  },
  {
   "cell_type": "code",
   "execution_count": null,
   "id": "8089627e",
   "metadata": {},
   "outputs": [],
   "source": [
    "players.drop_duplicates(inplace=True)\n",
    "top_ten_male = players.query('0 < current_rank <= 10 and gender==\"M\" ')\n",
    "top_ten_female = players.query('0 < current_rank <= 10 and gender==\"F\" ')"
   ]
  },
  {
   "cell_type": "code",
   "execution_count": null,
   "id": "0c11dd13",
   "metadata": {},
   "outputs": [],
   "source": [
    "top_ten_male.sort_values(by='current_rank')"
   ]
  },
  {
   "cell_type": "markdown",
   "id": "157c379f",
   "metadata": {},
   "source": [
    "To finde the winner based on GameInfo dataframe these steps must be taken:\n",
    "<ol>\n",
    "    <li>Determine points won by each team in each game</li>\n",
    "    <li>Aggregate points to determine the game winner</li>\n",
    "    <li>Aggregate games to determine the set winner</li>\n",
    "    <li> Determine the match winner</li>\n",
    "</ol>"
   ]
  },
  {
   "cell_type": "code",
   "execution_count": null,
   "id": "cc46699b",
   "metadata": {},
   "outputs": [],
   "source": [
    "# Step 1: \n",
    "GameInfo['home_game_win'] = GameInfo['home_score'] > GameInfo['away_score']\n",
    "GameInfo['away_game_win'] = GameInfo['away_score'] > GameInfo['home_score']\n",
    "\n",
    "# Step 2: \n",
    "game_winners = GameInfo.groupby(['match_id', 'set_id', 'game_id']).agg(\n",
    "    home_game_wins=('home_game_win', 'sum'),\n",
    "    away_game_wins=('away_game_win', 'sum')\n",
    ").reset_index()\n",
    "\n",
    "# Determine game winners (1 for home, -1 for away)\n",
    "game_winners['game_winner'] = game_winners.apply(\n",
    "    lambda row: 1 if row['home_game_wins'] > row['away_game_wins'] else -1, axis=1\n",
    ")\n",
    "\n",
    "# Step 3: \n",
    "set_winners = game_winners.groupby(['match_id', 'set_id']).agg(\n",
    "    total_home_game_wins=('game_winner', lambda x: (x == 1).sum()),\n",
    "    total_away_game_wins=('game_winner', lambda x: (x == -1).sum())\n",
    ").reset_index()\n",
    "\n",
    "# Determine set winners (1 for home, -1 for away)\n",
    "set_winners['set_winner'] = set_winners.apply(\n",
    "    lambda row: 1 if row['total_home_game_wins'] > row['total_away_game_wins'] else -1, axis=1\n",
    ")\n",
    "\n",
    "# Step 4:\n",
    "match_winners = set_winners.groupby('match_id').agg(\n",
    "    total_home_set_wins=('set_winner', lambda x: (x == 1).sum()),\n",
    "    total_away_set_wins=('set_winner', lambda x: (x == -1).sum())\n",
    ").reset_index()\n",
    "\n",
    "# Determine match winners (Home or Away)\n",
    "match_winners['match_winner'] = match_winners.apply(\n",
    "    lambda row: 'Home' if row['total_home_set_wins'] > row['total_away_set_wins'] else 'Away', axis=1\n",
    ")\n"
   ]
  },
  {
   "cell_type": "code",
   "execution_count": null,
   "id": "7c6ce236",
   "metadata": {},
   "outputs": [],
   "source": [
    "# Since the women and men matches are two different category we add a gender to the match_winners dataframe.\n",
    "matchid_gender = pd.merge(\n",
    "    MatchHomeTeamInfo[['match_id', 'gender']],\n",
    "    MatchAwayTeamInfo[['match_id', 'gender']],\n",
    "    on='match_id', \n",
    "    how='outer', \n",
    "    suffixes=['_home', '_away']\n",
    "    )\n",
    "matchid_gender['gender'] = matchid_gender.apply(\n",
    "lambda row: row['gender_away'] if pd.notnull(row['gender_away']) else row['gender_home']\n",
    ", axis=1)\n",
    "matchid_gender.drop(['gender_home','gender_away'], axis=1, inplace=True)"
   ]
  },
  {
   "cell_type": "code",
   "execution_count": null,
   "id": "b1529422",
   "metadata": {},
   "outputs": [],
   "source": [
    "match_winners = pd.merge(match_winners, matchid_gender, on='match_id', how='left')\n",
    "match_winners.drop(['total_home_set_wins','total_away_set_wins'], axis=1, inplace=True)\n",
    "match_winners.head()"
   ]
  },
  {
   "cell_type": "code",
   "execution_count": null,
   "id": "532c5d4d",
   "metadata": {},
   "outputs": [],
   "source": [
    "def get_winner_player_id(row):\n",
    "    match_id = row['match_id']\n",
    "    match_winner = row['match_winner']\n",
    "    \n",
    "    if match_winner == 'Away':\n",
    "        winner_info = MatchAwayTeamInfo.loc[MatchAwayTeamInfo['match_id'] == match_id, 'player_id']\n",
    "    elif match_winner == 'Home':\n",
    "        winner_info = MatchHomeTeamInfo.loc[MatchHomeTeamInfo['match_id'] == match_id, 'player_id']\n",
    "    else:\n",
    "        return None  \n",
    "    \n",
    "    if len(winner_info) > 0:\n",
    "        return winner_info.values[0]\n",
    "    else:\n",
    "        return None\n",
    "\n",
    "def get_losser_player_id(row):\n",
    "    match_id = row['match_id']\n",
    "    match_winner = row['match_winner']\n",
    "    \n",
    "    if match_winner == 'Home':\n",
    "        winner_info = MatchAwayTeamInfo.loc[MatchAwayTeamInfo['match_id'] == match_id, 'player_id']\n",
    "    elif match_winner == 'Away':\n",
    "        winner_info = MatchHomeTeamInfo.loc[MatchHomeTeamInfo['match_id'] == match_id, 'player_id']\n",
    "    else:\n",
    "        return None  # Handle unknown match_winner value\n",
    "    \n",
    "    if len(winner_info) > 0:\n",
    "        return winner_info.values[0]\n",
    "    else:\n",
    "        return None\n",
    "    \n",
    "match_winners['winner_player_id'] = match_winners.apply(lambda row: get_winner_player_id(row), axis=1)\n",
    "match_winners['loser_player_id'] = match_winners.apply(lambda row: get_losser_player_id(row), axis=1)"
   ]
  },
  {
   "cell_type": "code",
   "execution_count": null,
   "id": "21964184",
   "metadata": {},
   "outputs": [],
   "source": [
    "match_winners"
   ]
  },
  {
   "cell_type": "code",
   "execution_count": null,
   "id": "3e68721f",
   "metadata": {},
   "outputs": [],
   "source": [
    "def player_with_most_wins_against_top_ten(match_winner, top_ten_players, gender):\n",
    "    # Filter matches based on gender and top ten players\n",
    "    wins_against_top_ten = match_winner[\n",
    "        (match_winner['gender'] == gender) &\n",
    "        (\n",
    "            ((match_winner['match_winner'] == 'Home') & (~match_winner['winner_player_id'].isin(top_ten_players['player_id'])) & (match_winner['loser_player_id'].isin(top_ten_players['player_id']))) |\n",
    "            ((match_winner['match_winner'] == 'Away') & (match_winner['winner_player_id'].isin(top_ten_players['player_id'])) & (~match_winner['loser_player_id'].isin(top_ten_players['player_id'])))\n",
    "        )\n",
    "    ]\n",
    "    \n",
    "    # Count wins by non-top ten players against top ten players\n",
    "    wins_count = wins_against_top_ten['winner_player_id'].value_counts()\n",
    "    \n",
    "    # Find player with most wins against top ten players\n",
    "    if not wins_count.empty:\n",
    "        player_most_wins = wins_count.idxmax()\n",
    "        return player_most_wins, wins_count.max()\n",
    "    else:\n",
    "        return None\n",
    "\n",
    "\n",
    "most_winner_against_top_ten_male = player_with_most_wins_against_top_ten(\n",
    "    match_winners, top_ten_male,gender='M')\n",
    "most_winner_against_top_ten_female = player_with_most_wins_against_top_ten(\n",
    "    match_winners, top_ten_female,'F')\n"
   ]
  },
  {
   "cell_type": "code",
   "execution_count": null,
   "id": "68db4369",
   "metadata": {},
   "outputs": [],
   "source": [
    "most_winner_male = {'Player_Id':most_winner_against_top_ten_male[0],\n",
    "                   'Full_Name': MatchAwayTeamInfo.loc[MatchAwayTeamInfo['player_id'].\n",
    "                                        eq(most_winner_against_top_ten_male[0]),'full_name'].unique(),\n",
    "                    'Number_Of_Wins': most_winner_against_top_ten_male[1],\n",
    "                   'Category':\"Male\"}\n",
    "most_winner_female = {'Player_Id':most_winner_against_top_ten_female[0],\n",
    "                   'Full_Name': MatchAwayTeamInfo.loc[MatchAwayTeamInfo['player_id'].\n",
    "                                        eq(most_winner_against_top_ten_female[0]),'full_name'].unique(),\n",
    "                     'Number_Of_Wins': most_winner_against_top_ten_female[1],\n",
    "                     'Category':'Female'}\n",
    "male_winner = pd.DataFrame(most_winner_male)\n",
    "female_winner = pd.DataFrame(most_winner_female)\n",
    "most_winner_combined = pd.concat([male_winner,female_winner], ignore_index=True, keys=['Male','Female'])\n",
    "most_winner_combined"
   ]
  },
  {
   "cell_type": "markdown",
   "id": "0515c90d",
   "metadata": {},
   "source": [
    "# Q_17"
   ]
  },
  {
   "cell_type": "code",
   "execution_count": 37,
   "id": "903ecb1f",
   "metadata": {},
   "outputs": [
    {
     "data": {
      "text/plain": [
       "array(['aces', 'double_faults', 'first_serve', 'second_serve',\n",
       "       'first_serve_points', 'second_serve_points',\n",
       "       'service_games_played', 'break_points_saved'], dtype=object)"
      ]
     },
     "execution_count": 37,
     "metadata": {},
     "output_type": "execute_result"
    }
   ],
   "source": [
    "PeriodInfo.loc[PeriodInfo['statistic_category_name'].eq('service'), 'statistic_name'].unique()"
   ]
  },
  {
   "cell_type": "code",
   "execution_count": 7,
   "id": "1386b905",
   "metadata": {},
   "outputs": [
    {
     "data": {
      "text/html": [
       "<div>\n",
       "<style scoped>\n",
       "    .dataframe tbody tr th:only-of-type {\n",
       "        vertical-align: middle;\n",
       "    }\n",
       "\n",
       "    .dataframe tbody tr th {\n",
       "        vertical-align: top;\n",
       "    }\n",
       "\n",
       "    .dataframe thead th {\n",
       "        text-align: right;\n",
       "    }\n",
       "</style>\n",
       "<table border=\"1\" class=\"dataframe\">\n",
       "  <thead>\n",
       "    <tr style=\"text-align: right;\">\n",
       "      <th></th>\n",
       "      <th>match_id</th>\n",
       "      <th>period</th>\n",
       "      <th>statistic_category_name</th>\n",
       "      <th>statistic_name</th>\n",
       "      <th>home_stat</th>\n",
       "      <th>away_stat</th>\n",
       "      <th>compare_code</th>\n",
       "      <th>statistic_type</th>\n",
       "      <th>value_type</th>\n",
       "      <th>home_value</th>\n",
       "      <th>away_value</th>\n",
       "      <th>home_total</th>\n",
       "      <th>away_total</th>\n",
       "    </tr>\n",
       "  </thead>\n",
       "  <tbody>\n",
       "    <tr>\n",
       "      <th>0</th>\n",
       "      <td>12260075</td>\n",
       "      <td>ALL</td>\n",
       "      <td>service</td>\n",
       "      <td>aces</td>\n",
       "      <td>2</td>\n",
       "      <td>7</td>\n",
       "      <td>2</td>\n",
       "      <td>positive</td>\n",
       "      <td>event</td>\n",
       "      <td>0</td>\n",
       "      <td>0</td>\n",
       "      <td>164.0</td>\n",
       "      <td>164.0</td>\n",
       "    </tr>\n",
       "    <tr>\n",
       "      <th>1</th>\n",
       "      <td>12260075</td>\n",
       "      <td>ALL</td>\n",
       "      <td>service</td>\n",
       "      <td>double_faults</td>\n",
       "      <td>2</td>\n",
       "      <td>1</td>\n",
       "      <td>1</td>\n",
       "      <td>negative</td>\n",
       "      <td>event</td>\n",
       "      <td>0</td>\n",
       "      <td>0</td>\n",
       "      <td>164.0</td>\n",
       "      <td>164.0</td>\n",
       "    </tr>\n",
       "    <tr>\n",
       "      <th>2</th>\n",
       "      <td>12260075</td>\n",
       "      <td>ALL</td>\n",
       "      <td>service</td>\n",
       "      <td>first_serve</td>\n",
       "      <td>44/72 (61%)</td>\n",
       "      <td>48/65 (74%)</td>\n",
       "      <td>2</td>\n",
       "      <td>positive</td>\n",
       "      <td>team</td>\n",
       "      <td>14</td>\n",
       "      <td>60</td>\n",
       "      <td>72.0</td>\n",
       "      <td>65.0</td>\n",
       "    </tr>\n",
       "    <tr>\n",
       "      <th>3</th>\n",
       "      <td>12260075</td>\n",
       "      <td>ALL</td>\n",
       "      <td>service</td>\n",
       "      <td>second_serve</td>\n",
       "      <td>26/28 (93%)</td>\n",
       "      <td>16/17 (94%)</td>\n",
       "      <td>2</td>\n",
       "      <td>positive</td>\n",
       "      <td>team</td>\n",
       "      <td>32</td>\n",
       "      <td>14</td>\n",
       "      <td>28.0</td>\n",
       "      <td>17.0</td>\n",
       "    </tr>\n",
       "    <tr>\n",
       "      <th>4</th>\n",
       "      <td>12260075</td>\n",
       "      <td>ALL</td>\n",
       "      <td>service</td>\n",
       "      <td>first_serve_points</td>\n",
       "      <td>30/44 (68%)</td>\n",
       "      <td>42/48 (88%)</td>\n",
       "      <td>2</td>\n",
       "      <td>positive</td>\n",
       "      <td>team</td>\n",
       "      <td>44</td>\n",
       "      <td>58</td>\n",
       "      <td>44.0</td>\n",
       "      <td>48.0</td>\n",
       "    </tr>\n",
       "  </tbody>\n",
       "</table>\n",
       "</div>"
      ],
      "text/plain": [
       "   match_id period statistic_category_name      statistic_name    home_stat  \\\n",
       "0  12260075    ALL                 service                aces            2   \n",
       "1  12260075    ALL                 service       double_faults            2   \n",
       "2  12260075    ALL                 service         first_serve  44/72 (61%)   \n",
       "3  12260075    ALL                 service        second_serve  26/28 (93%)   \n",
       "4  12260075    ALL                 service  first_serve_points  30/44 (68%)   \n",
       "\n",
       "     away_stat  compare_code statistic_type value_type  home_value  \\\n",
       "0            7             2       positive      event           0   \n",
       "1            1             1       negative      event           0   \n",
       "2  48/65 (74%)             2       positive       team          14   \n",
       "3  16/17 (94%)             2       positive       team          32   \n",
       "4  42/48 (88%)             2       positive       team          44   \n",
       "\n",
       "   away_value  home_total  away_total  \n",
       "0           0       164.0       164.0  \n",
       "1           0       164.0       164.0  \n",
       "2          60        72.0        65.0  \n",
       "3          14        28.0        17.0  \n",
       "4          58        44.0        48.0  "
      ]
     },
     "execution_count": 7,
     "metadata": {},
     "output_type": "execute_result"
    }
   ],
   "source": [
    "PeriodInfo.head()"
   ]
  },
  {
   "cell_type": "markdown",
   "id": "bd071f8b",
   "metadata": {},
   "source": [
    "Break Points Converted: This is the direct measure of breaks of serve. Each converted break point results in a break of serve.\n",
    "If the statistic indicates, for example, 5 break points converted, it means the player has broken their opponent's serve 5 times.<br>\n",
    "'From ChatGPT'"
   ]
  },
  {
   "cell_type": "code",
   "execution_count": 50,
   "id": "5abcfc51",
   "metadata": {},
   "outputs": [],
   "source": [
    "filter_period_all = PeriodInfo[PeriodInfo['period'].ne('ALL')]\n",
    "count_serve_break = (filter_period_all[filter_period_all['statistic_name']\n",
    "                    .eq('break_points_converted')]\n",
    "                    .groupby(['match_id'])['statistic_name']\n",
    "                    .count()\n",
    "                    .rename('break_of_serve_count')\n",
    "                    .reset_index())"
   ]
  },
  {
   "cell_type": "code",
   "execution_count": 52,
   "id": "6bc51919",
   "metadata": {},
   "outputs": [
    {
     "name": "stdout",
     "output_type": "stream",
     "text": [
      "Mean of break points converted per match: 2.2767962308598353\n"
     ]
    }
   ],
   "source": [
    "mean_serve_break = count_serve_break['break_of_serve_count'].mean()\n",
    "print(f\"Mean of break points converted per match: {mean_serve_break}\")"
   ]
  },
  {
   "cell_type": "code",
   "execution_count": 1,
   "id": "b31dd806",
   "metadata": {},
   "outputs": [
    {
     "ename": "NameError",
     "evalue": "name 'GameInfo' is not defined",
     "output_type": "error",
     "traceback": [
      "\u001b[1;31m---------------------------------------------------------------------------\u001b[0m",
      "\u001b[1;31mNameError\u001b[0m                                 Traceback (most recent call last)",
      "Cell \u001b[1;32mIn[1], line 1\u001b[0m\n\u001b[1;32m----> 1\u001b[0m \u001b[38;5;28mprint\u001b[39m(\u001b[43mGameInfo\u001b[49m\u001b[38;5;241m.\u001b[39misnull()\u001b[38;5;241m.\u001b[39msum())\n",
      "\u001b[1;31mNameError\u001b[0m: name 'GameInfo' is not defined"
     ]
    }
   ],
   "source": [
    "print(Gam.isnull().sum())"
   ]
  },
  {
   "cell_type": "code",
   "execution_count": null,
   "id": "91750a11",
   "metadata": {},
   "outputs": [],
   "source": []
  }
 ],
 "metadata": {
  "kernelspec": {
   "display_name": "Python 3 (ipykernel)",
   "language": "python",
   "name": "python3"
  },
  "language_info": {
   "codemirror_mode": {
    "name": "ipython",
    "version": 3
   },
   "file_extension": ".py",
   "mimetype": "text/x-python",
   "name": "python",
   "nbconvert_exporter": "python",
   "pygments_lexer": "ipython3",
   "version": "3.11.1"
  }
 },
 "nbformat": 4,
 "nbformat_minor": 5
}
